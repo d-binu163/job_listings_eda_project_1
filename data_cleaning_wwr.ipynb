{
 "cells": [
  {
   "cell_type": "markdown",
   "id": "5c3c60a0-cdaa-4ad3-9a28-6f9511c63773",
   "metadata": {},
   "source": [
    "Date of extracted Data: 15-05-2025 - Make sure to update scraped_date if new extracted data."
   ]
  },
  {
   "cell_type": "markdown",
   "id": "9e7eed8d-be3b-4525-9ed6-7b8d83a5fdee",
   "metadata": {},
   "source": [
    "# Import required libraries"
   ]
  },
  {
   "cell_type": "code",
   "execution_count": 1,
   "id": "895655e4-ff94-4fca-8c29-6b53945c94b2",
   "metadata": {},
   "outputs": [],
   "source": [
    "import numpy as np\n",
    "import pandas as pd\n",
    "from datetime import datetime, timedelta"
   ]
  },
  {
   "cell_type": "markdown",
   "id": "4567eb70-827c-4671-ac64-7a7c16512a64",
   "metadata": {},
   "source": [
    "# Loading Data"
   ]
  },
  {
   "cell_type": "code",
   "execution_count": 2,
   "id": "dfeb7788-a95a-4909-8a52-f8d34bf10edb",
   "metadata": {},
   "outputs": [],
   "source": [
    "scraped_date = pd.Timestamp('2025-05-15')"
   ]
  },
  {
   "cell_type": "code",
   "execution_count": 3,
   "id": "8df6b268-fd59-47fa-9d25-41cd82a61d82",
   "metadata": {},
   "outputs": [],
   "source": [
    "joblist = pd.read_csv('jobs_raw.csv', delimiter=',')"
   ]
  },
  {
   "cell_type": "code",
   "execution_count": 4,
   "id": "37ee3101-f422-45c6-86ed-9c9644fefa16",
   "metadata": {},
   "outputs": [
    {
     "data": {
      "text/plain": [
       "(275, 6)"
      ]
     },
     "execution_count": 4,
     "metadata": {},
     "output_type": "execute_result"
    }
   ],
   "source": [
    "joblist.shape"
   ]
  },
  {
   "cell_type": "code",
   "execution_count": 5,
   "id": "c325eeaa-2f86-44ab-8c92-79fac7e79744",
   "metadata": {
    "scrolled": true
   },
   "outputs": [
    {
     "data": {
      "text/html": [
       "<div>\n",
       "<style scoped>\n",
       "    .dataframe tbody tr th:only-of-type {\n",
       "        vertical-align: middle;\n",
       "    }\n",
       "\n",
       "    .dataframe tbody tr th {\n",
       "        vertical-align: top;\n",
       "    }\n",
       "\n",
       "    .dataframe thead th {\n",
       "        text-align: right;\n",
       "    }\n",
       "</style>\n",
       "<table border=\"1\" class=\"dataframe\">\n",
       "  <thead>\n",
       "    <tr style=\"text-align: right;\">\n",
       "      <th></th>\n",
       "      <th>title</th>\n",
       "      <th>company</th>\n",
       "      <th>category</th>\n",
       "      <th>date_posted</th>\n",
       "      <th>location</th>\n",
       "      <th>url</th>\n",
       "    </tr>\n",
       "  </thead>\n",
       "  <tbody>\n",
       "    <tr>\n",
       "      <th>0</th>\n",
       "      <td>AI Automation Expert</td>\n",
       "      <td>Contra</td>\n",
       "      <td>Full Stack Programming</td>\n",
       "      <td>NEW</td>\n",
       "      <td>San Francisco, CA</td>\n",
       "      <td>https://weworkremotely.com/company/contra</td>\n",
       "    </tr>\n",
       "    <tr>\n",
       "      <th>1</th>\n",
       "      <td>Remote Full-Stack TypeScript Engineer</td>\n",
       "      <td>Glama</td>\n",
       "      <td>Full Stack Programming</td>\n",
       "      <td>NEW</td>\n",
       "      <td>Miami, FL</td>\n",
       "      <td>https://weworkremotely.com/company/glama</td>\n",
       "    </tr>\n",
       "    <tr>\n",
       "      <th>2</th>\n",
       "      <td>Senior React Full-stack Developer</td>\n",
       "      <td>Lemon.io</td>\n",
       "      <td>Full Stack Programming</td>\n",
       "      <td>NEW</td>\n",
       "      <td>New York, NY</td>\n",
       "      <td>https://weworkremotely.com/company/lemon-io</td>\n",
       "    </tr>\n",
       "    <tr>\n",
       "      <th>3</th>\n",
       "      <td>PHP Full-Stack Developer</td>\n",
       "      <td>OnTheGoSystems</td>\n",
       "      <td>Full Stack Programming</td>\n",
       "      <td>2d</td>\n",
       "      <td>100% remote</td>\n",
       "      <td>https://weworkremotely.com/company/onthegosystems</td>\n",
       "    </tr>\n",
       "    <tr>\n",
       "      <th>4</th>\n",
       "      <td>Coding Tech Bootcamp - Job Guaranteed by Metana</td>\n",
       "      <td>Metana</td>\n",
       "      <td>Full Stack Programming</td>\n",
       "      <td>BOOTCAMP INFO</td>\n",
       "      <td>No coding experience required, Land a job with...</td>\n",
       "      <td>https://metana.io/full-stack-software-engineer...</td>\n",
       "    </tr>\n",
       "  </tbody>\n",
       "</table>\n",
       "</div>"
      ],
      "text/plain": [
       "                                             title         company  \\\n",
       "0                             AI Automation Expert          Contra   \n",
       "1            Remote Full-Stack TypeScript Engineer           Glama   \n",
       "2                Senior React Full-stack Developer        Lemon.io   \n",
       "3                         PHP Full-Stack Developer  OnTheGoSystems   \n",
       "4  Coding Tech Bootcamp - Job Guaranteed by Metana          Metana   \n",
       "\n",
       "                 category    date_posted  \\\n",
       "0  Full Stack Programming            NEW   \n",
       "1  Full Stack Programming            NEW   \n",
       "2  Full Stack Programming            NEW   \n",
       "3  Full Stack Programming             2d   \n",
       "4  Full Stack Programming  BOOTCAMP INFO   \n",
       "\n",
       "                                            location  \\\n",
       "0                                  San Francisco, CA   \n",
       "1                                          Miami, FL   \n",
       "2                                       New York, NY   \n",
       "3                                        100% remote   \n",
       "4  No coding experience required, Land a job with...   \n",
       "\n",
       "                                                 url  \n",
       "0          https://weworkremotely.com/company/contra  \n",
       "1           https://weworkremotely.com/company/glama  \n",
       "2        https://weworkremotely.com/company/lemon-io  \n",
       "3  https://weworkremotely.com/company/onthegosystems  \n",
       "4  https://metana.io/full-stack-software-engineer...  "
      ]
     },
     "execution_count": 5,
     "metadata": {},
     "output_type": "execute_result"
    }
   ],
   "source": [
    "joblist.head()"
   ]
  },
  {
   "cell_type": "markdown",
   "id": "d73c15e1-d59a-42fd-89b2-fc0681889012",
   "metadata": {},
   "source": [
    "# Cleaning Data"
   ]
  },
  {
   "cell_type": "markdown",
   "id": "092a3550-4095-415c-927d-be2756d7663c",
   "metadata": {},
   "source": [
    "### Renaming Columns accurately"
   ]
  },
  {
   "cell_type": "code",
   "execution_count": 6,
   "id": "6ffc6a88-9a75-45e3-ae6f-5167f53aa9bc",
   "metadata": {},
   "outputs": [],
   "source": [
    "joblist.rename(columns={'date_posted':'days_since_posted'}, inplace=True)"
   ]
  },
  {
   "cell_type": "markdown",
   "id": "867091d4-7032-4d2f-b82b-725a4b6e45e0",
   "metadata": {},
   "source": [
    "### Checking and fixing null values\n",
    "Since there are only a few null values, the locations are inserted manually."
   ]
  },
  {
   "cell_type": "code",
   "execution_count": 7,
   "id": "eb610612-7732-4b81-b011-aec8fbcade76",
   "metadata": {},
   "outputs": [
    {
     "name": "stdout",
     "output_type": "stream",
     "text": [
      "                                                title  \\\n",
      "59                      Linux System Engineer (M/W/D)   \n",
      "83                                 Back-End Developer   \n",
      "102                                   Golang Engineer   \n",
      "115                            Acquisition Specialist   \n",
      "160  Real Estate CRM Manager - HubSpot (ZR_22009_JOB)   \n",
      "\n",
      "                            company                category days_since_posted  \\\n",
      "59   Anexia Internetdienstleistungs   Front End Programming                9d   \n",
      "83                        Winna.com    Back End Programming               29d   \n",
      "102                       Canonical     DevOps and Sysadmin               23d   \n",
      "115                   Pie Insurance  Management and Finance               24d   \n",
      "160                       BruntWork        Customer Support               27d   \n",
      "\n",
      "    location                                                url  \n",
      "59       NaN  https://weworkremotely.com/company/anexia-inte...  \n",
      "83       NaN       https://weworkremotely.com/company/winna-com  \n",
      "102      NaN       https://weworkremotely.com/company/canonical  \n",
      "115      NaN   https://weworkremotely.com/company/pie-insurance  \n",
      "160      NaN       https://weworkremotely.com/company/bruntwork  \n"
     ]
    }
   ],
   "source": [
    "null_values = joblist[joblist.isna().any(axis = 1)]\n",
    "print(joblist[joblist['company'].isin(null_values['company'])])"
   ]
  },
  {
   "cell_type": "code",
   "execution_count": 8,
   "id": "4ac13f70-c688-4c55-91bb-fdb59a88a188",
   "metadata": {},
   "outputs": [],
   "source": [
    "joblist.loc[\n",
    "    (joblist['company'] == 'Anexia Internetdienstleistungs') & (joblist['location'].isna()),'location'] = 'Austria'\n",
    "joblist.loc[\n",
    "    (joblist['company'] == 'Winna.com') & (joblist['location'].isna()),'location'] = 'London'\n",
    "joblist.loc[\n",
    "    (joblist['company'] == 'Canonical') & (joblist['location'].isna()),'location'] = 'London'\n",
    "joblist.loc[\n",
    "    (joblist['company'] == 'Pie Insurance') & (joblist['location'].isna()),'location'] = 'Colorado, USA'\n",
    "joblist.loc[\n",
    "    (joblist['company'] == 'BruntWork') & (joblist['location'].isna()),'location'] = 'Sydney, Australia'"
   ]
  },
  {
   "cell_type": "code",
   "execution_count": 9,
   "id": "bac66845-dad3-48d7-9f37-306b146dcb53",
   "metadata": {},
   "outputs": [
    {
     "name": "stdout",
     "output_type": "stream",
     "text": [
      "title                0\n",
      "company              0\n",
      "category             0\n",
      "days_since_posted    0\n",
      "location             0\n",
      "url                  0\n",
      "dtype: int64\n"
     ]
    }
   ],
   "source": [
    "print(joblist.isnull().sum())"
   ]
  },
  {
   "cell_type": "markdown",
   "id": "224b6fdc-36de-429d-9fa4-0fb3a1e802d3",
   "metadata": {},
   "source": [
    "### Correcting inaccurate values\n",
    "\n",
    "The unique locations are listed to check if there are any inconsistent or inaccurate values. "
   ]
  },
  {
   "cell_type": "code",
   "execution_count": 10,
   "id": "89325722-d270-4671-9bfb-2a2a50ed7322",
   "metadata": {},
   "outputs": [
    {
     "name": "stdout",
     "output_type": "stream",
     "text": [
      "['San Francisco, CA' 'Miami, FL' 'New York, NY' '100% remote'\n",
      " 'No coding experience required, Land a job with 1-on-1 expert support.'\n",
      " 'Virtual' 'Acireale, Italy' 'New York City' 'St. Petersburg, FL' 'Texas'\n",
      " 'Los Angeles' 'NYC, SF, and TLV' 'San Francisco' 'Pennsylvania'\n",
      " 'New Jersey' 'Florida' 'Murmuration' 'Alabama' 'New York'\n",
      " 'Sydney, Australia' 'Brooklyn, NY' 'Fully Remote' 'Rio de Janeiro'\n",
      " 'Montreal' 'Remote' 'Indiana, USA' 'London' 'Germany Hamburg'\n",
      " 'The Internet' 'Oakland, California, United States' 'London, UK' 'NYC'\n",
      " 'London, ON Canada' 'Brussels' 'Hong Kong' 'United States' 'Spring, TX'\n",
      " 'Madeira, Portugal' 'Switzerland' 'Phoenix, AZ' 'USA' 'Nashville, TN'\n",
      " 'Greenwich, CT' 'Sweden' 'Australia' 'Austria' 'Ho Chi Minh, Vietnam'\n",
      " 'Quebec city, Canada' 'Denver, CO' 'Tallinn, Estonia'\n",
      " 'Via Sclafani, 40D, 95024 Acireale CT, Italy' 'Aarhus, Denmark'\n",
      " 'Copenhagen, Denmark' 'Finland' 'Gent, Belgium' 'US Virgin Islands'\n",
      " 'Novi Sad' 'Cambridge, MA' 'Stockholm' 'Scottsdale, AZ' 'Tampa, FL'\n",
      " 'Hurst, TX' 'Atlanta, Georgia' 'Brooklyn, New York' 'Gibraltar'\n",
      " 'Austin Texas' 'Germany Munich' 'San Juan, Puerto Rico' 'California'\n",
      " 'San Francisco USA' 'California USA' 'Colorado, USA' 'Montreal, Canada'\n",
      " 'Delray Beach, Florida' 'Salt Lake City, UT, USA' 'Ireland' 'Boulder, CO'\n",
      " 'Bethesda, MD' 'El Salvador' 'Warsaw, Poland' 'Las Vegas, NV'\n",
      " 'Boston, MA' 'Melbourne, Australia.'\n",
      " 'San Francisco, California, United States' 'Miami Lakes, FL'\n",
      " 'Greenwood, IN' 'Campinas, São Paulo, Brazil' '(North America)' 'Poland'\n",
      " 'Tel Aviv-Yafo, Tel Aviv District, Israel' '- Netherlands' 'Remote, US'\n",
      " 'Lynnwood, Washington' 'Pune, India' 'Remote: North Carolina'\n",
      " 'Remote, India' 'Boston' 'Los Angeles, CA USA' 'San Diego, California'\n",
      " 'Nashville, Tennessee, United States' 'Pittsburgh,PA' 'Austin, TX'\n",
      " 'Phoenix, Arizona, United States' 'New York, NY, USA' 'Toronto, Canada'\n",
      " 'British Columbia' 'Casper, Wyoming' 'Zürich, Switzerland' 'Denmark'\n",
      " 'Orlando, Florida' 'Bratislava' 'Puerto Rico' 'Virginia, USA'\n",
      " 'Wyoming, USA' 'San Francisco, California, USA' 'Atlanta, GA' 'Toronto'\n",
      " 'McLean, VA' 'Gold Coast, Australia' 'Houston, Texas'\n",
      " 'New York City-Hybrid' 'Zevenbergen' 'Edinburgh' 'Melbourne' 'Europe'\n",
      " 'St. Louis, Missouri' 'Florida, USA' 'Japan' 'Panama'\n",
      " 'Facing History & Ourselves' 'Cyprus or Remote' 'Czech Republic'\n",
      " 'Barcelona, Spain' 'Shibuya, Tokyo' 'Limassol, Lemesós, Cyprus'\n",
      " 'Fully remote from Europe' 'Orlando, FL' 'Saudi Arabia' 'AUSTIN, TX'\n",
      " 'Andorra' 'Magic Inc.']\n"
     ]
    }
   ],
   "source": [
    "print(joblist['location'].unique())"
   ]
  },
  {
   "cell_type": "code",
   "execution_count": 11,
   "id": "e6f3ce00-3b16-48e2-a179-94fe1b593fa3",
   "metadata": {},
   "outputs": [],
   "source": [
    "joblist = joblist[~joblist['location'].str.contains('No coding experience required, Land a job with 1-on-1 expert support.', na=False)]"
   ]
  },
  {
   "cell_type": "markdown",
   "id": "d8122f6f-0985-4e4e-b10d-6c7592b14b94",
   "metadata": {},
   "source": [
    "### New Column - Region based on location\n",
    "With the given location data we have, the broader region is assigned to each row. This makes it easier to group the data according to location\n",
    "\n",
    "An extra category called 'Others' is added to check which rows do not fit in the given location. Then the rows with Others are returned to check and correct their inconsistencies."
   ]
  },
  {
   "cell_type": "code",
   "execution_count": 12,
   "id": "0224a3ea-be67-4918-b2b8-64639454426a",
   "metadata": {},
   "outputs": [],
   "source": [
    "region_key = {\n",
    "'US':['alabama','alaska','arizona','arkansas','california','colorado','connecticut',\n",
    "                 'delaware','florida','georgia','hawaii','idaho','illinois','indiana','iowa',\n",
    "                 'kansas','kentucky','louisiana','maine','maryland','massachusetts','michigan',\n",
    "                 'minnesota','mississippi','missouri','montana','nebraska','nevada','new hampshire',\n",
    "                 'new jersey','new mexico','new york','north carolina','north dakota','ohio',\n",
    "                 'oklahoma','oregon','pennsylvania','rhode island','south carolina','south dakota',\n",
    "                 'tennessee','texas','utah','vermont','virginia','washington','west virginia',\n",
    "                 'wisconsin','wyoming','usa','united states','u.s.','us','miami','san francisco', \n",
    "                  'nyc', 'los angeles', 'brooklyn', 'st. petersburg','spring', 'phoenix', 'nashville', \n",
    "                  'greenwich', 'denver','cambridge','scottsdale','tampa','hurst','boulder','bethesda',\n",
    "                  'las vegas','boston','greenwood','pittsburgh','atlanta','mclean','orlando'],\n",
    "'North America ex. US':\n",
    "['canada','montreal','british columbia','toronto','el salvador','panama','(north america)'],\n",
    "'Europe':\n",
    "['uk', 'united kingdom', 'england', 'scotland', 'wales', 'ireland', 'germany', 'france',\n",
    "        'netherlands', 'sweden', 'austria', 'belgium', 'denmark', 'finland', 'estonia', 'switzerland',\n",
    "        'italy', 'spain', 'portugal', 'norway', 'poland', 'czech', 'slovakia', 'hungary', 'europe', \n",
    "         'london','novi sad','gibraltar','bratislava','zevenbergen','edinburgh','andorra','stockholm'],\n",
    "'Middle East':\n",
    "['uae', 'united arab emirates', 'saudi', 'lebanon', 'qatar', 'kuwait', 'middle east','israel'],\n",
    "'Asia':\n",
    "['india', 'china', 'japan', 'vietnam', 'singapore', 'south korea', 'malaysia', 'philippines',\n",
    "        'thailand', 'taiwan', 'indonesia', 'bangladesh', 'pakistan', 'sri lanka','hong kong','tokyo'],\n",
    "'Australia/NZ':\n",
    "['australia', 'new zealand', 'nz','melbourne'],\n",
    "'South America':\n",
    "['brazil', 'argentina', 'chile', 'colombia', 'peru','rio de janeiro','puerto rico'],\n",
    "'Africa':\n",
    "['nigeria', 'kenya', 'egypt', 'south africa', 'africa'],\n",
    "'Remote': ['remote', 'virtual', 'the internet', 'anywhere']\n",
    "}\n",
    "\n",
    "def regiontype(locate):\n",
    "    for region, keywords in region_key.items():\n",
    "        if any(keyword in locate for keyword in keywords):\n",
    "            return region\n",
    "    return 'Other'\n",
    "\n",
    "joblist['region'] = joblist['location'].str.lower().apply(regiontype)"
   ]
  },
  {
   "cell_type": "code",
   "execution_count": 13,
   "id": "755c722a-c465-443d-9e51-7289c6cc6b1b",
   "metadata": {},
   "outputs": [
    {
     "name": "stdout",
     "output_type": "stream",
     "text": [
      "['US' 'Remote' 'Europe' 'Other' 'South America' 'North America ex. US'\n",
      " 'Asia' 'Middle East' 'Australia/NZ']\n"
     ]
    }
   ],
   "source": [
    "print(joblist['region'].unique())"
   ]
  },
  {
   "cell_type": "code",
   "execution_count": 14,
   "id": "0651687e-9b97-413f-931c-596d103dfcdf",
   "metadata": {},
   "outputs": [
    {
     "name": "stdout",
     "output_type": "stream",
     "text": [
      "21                    Murmuration\n",
      "247    Facing History & Ourselves\n",
      "274                    Magic Inc.\n",
      "Name: location, dtype: object\n"
     ]
    }
   ],
   "source": [
    "print(joblist[joblist['region'] == 'Other']['location'])"
   ]
  },
  {
   "cell_type": "code",
   "execution_count": 15,
   "id": "6c8756e5-b29a-4a4a-92f8-28315b7e32fa",
   "metadata": {},
   "outputs": [],
   "source": [
    "joblist.loc[\n",
    "(joblist['company'] == 'Murmuration'),'location'] = 'Remote'\n",
    "joblist.loc[\n",
    "(joblist['company'] == 'Facing History & Ourselves'),'location'] = 'Massachusetts, US'\n",
    "joblist.loc[\n",
    "(joblist['company'] == 'Magic Inc.'),'location'] = 'California, US'"
   ]
  },
  {
   "cell_type": "code",
   "execution_count": 16,
   "id": "5e070d4d-a6e7-44dc-a077-800fc67ab02e",
   "metadata": {},
   "outputs": [],
   "source": [
    "region_key = {\n",
    "'US':['alabama','alaska','arizona','arkansas','california','colorado','connecticut',\n",
    "                 'delaware','florida','georgia','hawaii','idaho','illinois','indiana','iowa',\n",
    "                 'kansas','kentucky','louisiana','maine','maryland','massachusetts','michigan',\n",
    "                 'minnesota','mississippi','missouri','montana','nebraska','nevada','new hampshire',\n",
    "                 'new jersey','new mexico','new york','north carolina','north dakota','ohio',\n",
    "                 'oklahoma','oregon','pennsylvania','rhode island','south carolina','south dakota',\n",
    "                 'tennessee','texas','utah','vermont','virginia','washington','west virginia',\n",
    "                 'wisconsin','wyoming','usa','united states','u.s.','us','miami','san francisco', \n",
    "                  'nyc', 'los angeles', 'brooklyn', 'st. petersburg','spring', 'phoenix', 'nashville', \n",
    "                  'greenwich', 'denver','cambridge','scottsdale','tampa','hurst','boulder','bethesda',\n",
    "                  'las vegas','boston','greenwood','pittsburgh','atlanta','mclean','orlando'],\n",
    "'North America ex. US':\n",
    "['canada','montreal','british columbia','toronto','el salvador','panama','(north america)'],\n",
    "'Europe':\n",
    "['uk', 'united kingdom', 'england', 'scotland', 'wales', 'ireland', 'germany', 'france',\n",
    "        'netherlands', 'sweden', 'austria', 'belgium', 'denmark', 'finland', 'estonia', 'switzerland',\n",
    "        'italy', 'spain', 'portugal', 'norway', 'poland', 'czech', 'slovakia', 'hungary', 'europe', \n",
    "         'london','novi sad','gibraltar','bratislava','zevenbergen','edinburgh','andorra','stockholm'],\n",
    "'Middle East':\n",
    "['israel', 'uae', 'united arab emirates', 'saudi', 'lebanon', 'qatar', 'kuwait', 'middle east'],\n",
    "'Asia':\n",
    "['india', 'china', 'japan', 'vietnam', 'singapore', 'south korea', 'malaysia', 'philippines',\n",
    "        'thailand', 'taiwan', 'indonesia', 'bangladesh', 'pakistan', 'sri lanka','hong kong','tokyo'],\n",
    "'Australia/NZ':\n",
    "['australia', 'new zealand', 'nz','melbourne'],\n",
    "'South America':\n",
    "['brazil', 'argentina', 'chile', 'colombia', 'peru','rio de janeiro','puerto rico'],\n",
    "'Africa':\n",
    "['nigeria', 'kenya', 'egypt', 'south africa', 'africa'],\n",
    "'Remote': ['remote', 'virtual', 'the internet', 'anywhere']\n",
    "}\n",
    "\n",
    "def regiontype(locate):\n",
    "    for region, keywords in region_key.items():\n",
    "        if any(keyword in locate for keyword in keywords):\n",
    "            return region\n",
    "    return 'Other'\n",
    "\n",
    "joblist['region'] = joblist['location'].str.lower().apply(regiontype)"
   ]
  },
  {
   "cell_type": "code",
   "execution_count": 17,
   "id": "ce67110a-0278-4b4c-9495-d1aed24fca24",
   "metadata": {},
   "outputs": [
    {
     "name": "stdout",
     "output_type": "stream",
     "text": [
      "['US' 'Remote' 'Europe' 'South America' 'North America ex. US' 'Asia'\n",
      " 'Middle East' 'Australia/NZ']\n"
     ]
    }
   ],
   "source": [
    "print(joblist['region'].unique())"
   ]
  },
  {
   "cell_type": "markdown",
   "id": "74d4e38c-0766-401f-a8b2-9f553fab28f1",
   "metadata": {},
   "source": [
    "### Fixing Date columns\n",
    "\n",
    "The inconsistencies  in days_since_posted is fixed. Then using datetime library, a new column is created based on the days we have."
   ]
  },
  {
   "cell_type": "code",
   "execution_count": 18,
   "id": "f38b470b-0a17-421d-806b-7b6febb4bb96",
   "metadata": {},
   "outputs": [],
   "source": [
    "joblist.loc[(joblist['days_since_posted'] == 'NEW'),'days_since_posted'] = '0d'"
   ]
  },
  {
   "cell_type": "code",
   "execution_count": 19,
   "id": "1ebf7f0d-8a56-4b06-ad3f-7e93927e4895",
   "metadata": {},
   "outputs": [
    {
     "name": "stdout",
     "output_type": "stream",
     "text": [
      "['0d' '2d' '8d' '9d' '14d' '16d' '18d' '1d' '3d' '4d' '5d' '6d' '7d' '10d'\n",
      " '20d' '21d' '22d' '23d' '24d' '27d' '28d' '29d' '30d' '12d' '13d' '15d'\n",
      " '26d' '25d' '19d' '17d' '11d']\n"
     ]
    }
   ],
   "source": [
    "print(joblist['days_since_posted'].unique())"
   ]
  },
  {
   "cell_type": "code",
   "execution_count": 20,
   "id": "5fc09639-8d1e-4ccb-8ec5-4c48d5bc6472",
   "metadata": {},
   "outputs": [],
   "source": [
    "joblist['days_since_posted'] = joblist['days_since_posted'].str.rstrip('d').astype(int)"
   ]
  },
  {
   "cell_type": "code",
   "execution_count": 21,
   "id": "0a8f432f-b5fc-4810-a0a7-102a3d7f3f7d",
   "metadata": {},
   "outputs": [],
   "source": [
    "joblist['posted_date'] = scraped_date - pd.to_timedelta(joblist['days_since_posted'], unit='d')"
   ]
  },
  {
   "cell_type": "code",
   "execution_count": null,
   "id": "8ca3b284-17d1-4acb-bbdd-7256631f2a0c",
   "metadata": {},
   "outputs": [],
   "source": []
  },
  {
   "cell_type": "code",
   "execution_count": 22,
   "id": "2624cc47-aca7-4a59-9720-cb80afbb8f5b",
   "metadata": {},
   "outputs": [
    {
     "data": {
      "text/html": [
       "<div>\n",
       "<style scoped>\n",
       "    .dataframe tbody tr th:only-of-type {\n",
       "        vertical-align: middle;\n",
       "    }\n",
       "\n",
       "    .dataframe tbody tr th {\n",
       "        vertical-align: top;\n",
       "    }\n",
       "\n",
       "    .dataframe thead th {\n",
       "        text-align: right;\n",
       "    }\n",
       "</style>\n",
       "<table border=\"1\" class=\"dataframe\">\n",
       "  <thead>\n",
       "    <tr style=\"text-align: right;\">\n",
       "      <th></th>\n",
       "      <th>title</th>\n",
       "      <th>company</th>\n",
       "      <th>category</th>\n",
       "      <th>days_since_posted</th>\n",
       "      <th>location</th>\n",
       "      <th>url</th>\n",
       "      <th>region</th>\n",
       "      <th>posted_date</th>\n",
       "    </tr>\n",
       "  </thead>\n",
       "  <tbody>\n",
       "    <tr>\n",
       "      <th>0</th>\n",
       "      <td>AI Automation Expert</td>\n",
       "      <td>Contra</td>\n",
       "      <td>Full Stack Programming</td>\n",
       "      <td>0</td>\n",
       "      <td>San Francisco, CA</td>\n",
       "      <td>https://weworkremotely.com/company/contra</td>\n",
       "      <td>US</td>\n",
       "      <td>2025-05-15</td>\n",
       "    </tr>\n",
       "    <tr>\n",
       "      <th>1</th>\n",
       "      <td>Remote Full-Stack TypeScript Engineer</td>\n",
       "      <td>Glama</td>\n",
       "      <td>Full Stack Programming</td>\n",
       "      <td>0</td>\n",
       "      <td>Miami, FL</td>\n",
       "      <td>https://weworkremotely.com/company/glama</td>\n",
       "      <td>US</td>\n",
       "      <td>2025-05-15</td>\n",
       "    </tr>\n",
       "    <tr>\n",
       "      <th>2</th>\n",
       "      <td>Senior React Full-stack Developer</td>\n",
       "      <td>Lemon.io</td>\n",
       "      <td>Full Stack Programming</td>\n",
       "      <td>0</td>\n",
       "      <td>New York, NY</td>\n",
       "      <td>https://weworkremotely.com/company/lemon-io</td>\n",
       "      <td>US</td>\n",
       "      <td>2025-05-15</td>\n",
       "    </tr>\n",
       "    <tr>\n",
       "      <th>3</th>\n",
       "      <td>PHP Full-Stack Developer</td>\n",
       "      <td>OnTheGoSystems</td>\n",
       "      <td>Full Stack Programming</td>\n",
       "      <td>2</td>\n",
       "      <td>100% remote</td>\n",
       "      <td>https://weworkremotely.com/company/onthegosystems</td>\n",
       "      <td>Remote</td>\n",
       "      <td>2025-05-13</td>\n",
       "    </tr>\n",
       "    <tr>\n",
       "      <th>5</th>\n",
       "      <td>RoR Full-Stack Developer</td>\n",
       "      <td>OnTheGoSystems</td>\n",
       "      <td>Full Stack Programming</td>\n",
       "      <td>2</td>\n",
       "      <td>100% remote</td>\n",
       "      <td>https://weworkremotely.com/company/onthegosystems</td>\n",
       "      <td>Remote</td>\n",
       "      <td>2025-05-13</td>\n",
       "    </tr>\n",
       "  </tbody>\n",
       "</table>\n",
       "</div>"
      ],
      "text/plain": [
       "                                   title         company  \\\n",
       "0                   AI Automation Expert          Contra   \n",
       "1  Remote Full-Stack TypeScript Engineer           Glama   \n",
       "2      Senior React Full-stack Developer        Lemon.io   \n",
       "3               PHP Full-Stack Developer  OnTheGoSystems   \n",
       "5               RoR Full-Stack Developer  OnTheGoSystems   \n",
       "\n",
       "                 category  days_since_posted           location  \\\n",
       "0  Full Stack Programming                  0  San Francisco, CA   \n",
       "1  Full Stack Programming                  0          Miami, FL   \n",
       "2  Full Stack Programming                  0       New York, NY   \n",
       "3  Full Stack Programming                  2        100% remote   \n",
       "5  Full Stack Programming                  2        100% remote   \n",
       "\n",
       "                                                 url  region posted_date  \n",
       "0          https://weworkremotely.com/company/contra      US  2025-05-15  \n",
       "1           https://weworkremotely.com/company/glama      US  2025-05-15  \n",
       "2        https://weworkremotely.com/company/lemon-io      US  2025-05-15  \n",
       "3  https://weworkremotely.com/company/onthegosystems  Remote  2025-05-13  \n",
       "5  https://weworkremotely.com/company/onthegosystems  Remote  2025-05-13  "
      ]
     },
     "execution_count": 22,
     "metadata": {},
     "output_type": "execute_result"
    }
   ],
   "source": [
    "joblist.head()"
   ]
  },
  {
   "cell_type": "code",
   "execution_count": 23,
   "id": "47b35a28-1fb1-41e5-8883-833a0787dbd6",
   "metadata": {
    "scrolled": true
   },
   "outputs": [
    {
     "name": "stdout",
     "output_type": "stream",
     "text": [
      "<class 'pandas.core.frame.DataFrame'>\n",
      "Index: 265 entries, 0 to 274\n",
      "Data columns (total 8 columns):\n",
      " #   Column             Non-Null Count  Dtype         \n",
      "---  ------             --------------  -----         \n",
      " 0   title              265 non-null    object        \n",
      " 1   company            265 non-null    object        \n",
      " 2   category           265 non-null    object        \n",
      " 3   days_since_posted  265 non-null    int64         \n",
      " 4   location           265 non-null    object        \n",
      " 5   url                265 non-null    object        \n",
      " 6   region             265 non-null    object        \n",
      " 7   posted_date        265 non-null    datetime64[ns]\n",
      "dtypes: datetime64[ns](1), int64(1), object(6)\n",
      "memory usage: 18.6+ KB\n"
     ]
    }
   ],
   "source": [
    "joblist.info()"
   ]
  },
  {
   "cell_type": "code",
   "execution_count": 24,
   "id": "28bf3a88-6732-497c-ba75-befc200cfee9",
   "metadata": {},
   "outputs": [],
   "source": [
    "joblist.to_csv('jobs_cleaned.csv',index=False)"
   ]
  },
  {
   "cell_type": "code",
   "execution_count": null,
   "id": "24d1b118-3d20-4309-94ce-dfb78f2cd36f",
   "metadata": {},
   "outputs": [],
   "source": []
  }
 ],
 "metadata": {
  "kernelspec": {
   "display_name": "Python 3 (ipykernel)",
   "language": "python",
   "name": "python3"
  },
  "language_info": {
   "codemirror_mode": {
    "name": "ipython",
    "version": 3
   },
   "file_extension": ".py",
   "mimetype": "text/x-python",
   "name": "python",
   "nbconvert_exporter": "python",
   "pygments_lexer": "ipython3",
   "version": "3.13.3"
  }
 },
 "nbformat": 4,
 "nbformat_minor": 5
}
